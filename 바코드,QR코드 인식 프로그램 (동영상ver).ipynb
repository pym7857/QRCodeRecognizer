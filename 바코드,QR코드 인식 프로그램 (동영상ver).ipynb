{
 "cells": [
  {
   "cell_type": "code",
   "execution_count": 10,
   "metadata": {},
   "outputs": [],
   "source": [
    "import pyzbar.pyzbar as pyzbar\n",
    "import cv2"
   ]
  },
  {
   "cell_type": "markdown",
   "metadata": {},
   "source": [
    "##### OpenCV - 이미지/비디오 읽기\n",
    "참고 : <https://zzsza.github.io/data/2018/01/23/opencv-1/>"
   ]
  },
  {
   "cell_type": "code",
   "execution_count": 8,
   "metadata": {},
   "outputs": [],
   "source": [
    "cap = cv2.VideoCapture(0)     # openCV의 비디오캡쳐객체 생성 (옵션 -> 참조문헌)"
   ]
  },
  {
   "cell_type": "code",
   "execution_count": 11,
   "metadata": {},
   "outputs": [],
   "source": [
    "i = 0\n",
    "while(cap.isOpened()):\n",
    "    ret, frame = cap.read()\n",
    "\n",
    "    if not ret:    # frame이 제대로 나오면 ret = True\n",
    "        continue\n",
    "\n",
    "    gray = cv2.cvtColor(frame, cv2.COLOR_BGR2GRAY)     # 흑백으로 (3컬러 -> 1컬러)\n",
    "\n",
    "    decoded = pyzbar.decode(gray)                    # pyzbar를 이용해 decode\n",
    "\n",
    "    for d in decoded: \n",
    "        x, y, w, h = d.rect                          # x좌표 = 0, y좌표 = 0, 너비, 높이 \n",
    "\n",
    "        barcode_data = d.data.decode(\"utf-8\")        # utf-8로 디코드 -> 주소 정상출력\n",
    "        barcode_type = d.type                        # type:QRCODE\n",
    "\n",
    "        # cv2.rectangle(): 이미지(img)에 '사각형틀'을 그린다.\n",
    "        cv2.rectangle(frame, (x, y), (x + w, y + h), (0, 0, 255), 2)    \n",
    "\n",
    "        text = '%s (%s)' % (barcode_data, barcode_type)    # text = 주소(타입)\n",
    "        \n",
    "        # putText(img, text, org, fontFace, fontScale, color, thickness, lineType)\n",
    "        cv2.putText(frame, text, (x, y), cv2.FONT_HERSHEY_SIMPLEX, 1, (0, 255, 255), 2, cv2.LINE_AA)\n",
    "\n",
    "    cv2.imshow('frame', frame)  # (title, image)\n",
    "\n",
    "    key = cv2.waitKey(1)\n",
    "    if key == ord('q'):\n",
    "        break\n",
    "    elif key == ord('s'):\n",
    "        i += 1\n",
    "        cv2.imwrite('b.jpg' % i, frame)    # 이미지 내보내기 \n",
    "\n",
    "cap.release()\n",
    "cv2.destroyAllWindows()"
   ]
  },
  {
   "cell_type": "code",
   "execution_count": 4,
   "metadata": {},
   "outputs": [],
   "source": [
    "cv2.putText?"
   ]
  }
 ],
 "metadata": {
  "kernelspec": {
   "display_name": "Python 3",
   "language": "python",
   "name": "python3"
  },
  "language_info": {
   "codemirror_mode": {
    "name": "ipython",
    "version": 3
   },
   "file_extension": ".py",
   "mimetype": "text/x-python",
   "name": "python",
   "nbconvert_exporter": "python",
   "pygments_lexer": "ipython3",
   "version": "3.7.3"
  }
 },
 "nbformat": 4,
 "nbformat_minor": 2
}
